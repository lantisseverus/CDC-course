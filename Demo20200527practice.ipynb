{
  "nbformat": 4,
  "nbformat_minor": 0,
  "metadata": {
    "colab": {
      "name": "Demo20200527practice.ipynb",
      "provenance": [],
      "toc_visible": true,
      "mount_file_id": "13dOsDg--x9y1Sdf_W9_FMSZu0mu_3_s1",
      "authorship_tag": "ABX9TyNf6fxZXg2qKSPP1eg2vQ2U",
      "include_colab_link": true
    },
    "kernelspec": {
      "name": "python3",
      "display_name": "Python 3"
    }
  },
  "cells": [
    {
      "cell_type": "markdown",
      "metadata": {
        "id": "view-in-github",
        "colab_type": "text"
      },
      "source": [
        "<a href=\"https://colab.research.google.com/github/lantisseverus/test/blob/master/Demo20200527practice.ipynb\" target=\"_parent\"><img src=\"https://colab.research.google.com/assets/colab-badge.svg\" alt=\"Open In Colab\"/></a>"
      ]
    },
    {
      "cell_type": "code",
      "metadata": {
        "id": "PkV1EQg1wXqQ",
        "colab_type": "code",
        "outputId": "69f61eb8-19e0-43df-9f6b-52aa9d8997f4",
        "colab": {
          "base_uri": "https://localhost:8080/",
          "height": 102
        }
      },
      "source": [
        "import jieba\n",
        "list(jieba.cut('今天天氣真好'))"
      ],
      "execution_count": 0,
      "outputs": [
        {
          "output_type": "stream",
          "text": [
            "Building prefix dict from the default dictionary ...\n",
            "Dumping model to file cache /tmp/jieba.cache\n",
            "Loading model cost 0.855 seconds.\n",
            "Prefix dict has been built successfully.\n"
          ],
          "name": "stderr"
        },
        {
          "output_type": "execute_result",
          "data": {
            "text/plain": [
              "['今天', '天氣', '真好']"
            ]
          },
          "metadata": {
            "tags": []
          },
          "execution_count": 4
        }
      ]
    },
    {
      "cell_type": "code",
      "metadata": {
        "id": "qBgLuGtIr6GX",
        "colab_type": "code",
        "outputId": "503df875-5cad-415e-cdf2-75df830108cb",
        "colab": {
          "base_uri": "https://localhost:8080/",
          "height": 34
        }
      },
      "source": [
        "s = 'This is a book'\n",
        "s.split ()\n",
        "\n"
      ],
      "execution_count": 0,
      "outputs": [
        {
          "output_type": "execute_result",
          "data": {
            "text/plain": [
              "['This', 'is', 'a', 'book']"
            ]
          },
          "metadata": {
            "tags": []
          },
          "execution_count": 1
        }
      ]
    },
    {
      "cell_type": "code",
      "metadata": {
        "id": "mPZwsxICvznm",
        "colab_type": "code",
        "outputId": "6b2cec7f-462f-4dcf-8daa-6a1e3d1845d5",
        "colab": {
          "base_uri": "https://localhost:8080/",
          "height": 54
        }
      },
      "source": [
        "! pip install jieba\n"
      ],
      "execution_count": 0,
      "outputs": [
        {
          "output_type": "stream",
          "text": [
            "Requirement already satisfied: jieba in /usr/local/lib/python3.6/dist-packages (0.42.1)\n"
          ],
          "name": "stdout"
        }
      ]
    },
    {
      "cell_type": "markdown",
      "metadata": {
        "id": "yX8UqrSp0cPq",
        "colab_type": "text"
      },
      "source": [
        ""
      ]
    },
    {
      "cell_type": "code",
      "metadata": {
        "id": "UeMyu2h7xrPl",
        "colab_type": "code",
        "colab": {}
      },
      "source": [
        "s = '我要特別謝謝一些人，他們在過去這四個月的防疫期間，很少被人提及。我要謝謝每一位在防疫初期，在藥房門口排隊的台灣人民。謝謝你們的耐心，以及謝謝你們對政府的信任。是你們讓全世界看到，台灣，即使在最不安的時刻，也能保持公民的美德。'"
      ],
      "execution_count": 0,
      "outputs": []
    },
    {
      "cell_type": "code",
      "metadata": {
        "id": "5-h3vfqgx4VX",
        "colab_type": "code",
        "outputId": "08aebca2-478b-49d2-a4a5-2345f6447f16",
        "colab": {
          "base_uri": "https://localhost:8080/",
          "height": 221
        }
      },
      "source": [
        "import re\n",
        "re.split('，|。', s)"
      ],
      "execution_count": 0,
      "outputs": [
        {
          "output_type": "execute_result",
          "data": {
            "text/plain": [
              "['我要特別謝謝一些人',\n",
              " '他們在過去這四個月的防疫期間',\n",
              " '很少被人提及',\n",
              " '我要謝謝每一位在防疫初期',\n",
              " '在藥房門口排隊的台灣人民',\n",
              " '謝謝你們的耐心',\n",
              " '以及謝謝你們對政府的信任',\n",
              " '是你們讓全世界看到',\n",
              " '台灣',\n",
              " '即使在最不安的時刻',\n",
              " '也能保持公民的美德',\n",
              " '']"
            ]
          },
          "metadata": {
            "tags": []
          },
          "execution_count": 7
        }
      ]
    },
    {
      "cell_type": "code",
      "metadata": {
        "id": "rQEMVYhvy01u",
        "colab_type": "code",
        "outputId": "30e0990e-330d-4ce5-e9f0-1893e73fb658",
        "colab": {
          "base_uri": "https://localhost:8080/",
          "height": 34
        }
      },
      "source": [
        "jieba.get_dict_file()"
      ],
      "execution_count": 0,
      "outputs": [
        {
          "output_type": "execute_result",
          "data": {
            "text/plain": [
              "<_io.BufferedReader name='/usr/local/lib/python3.6/dist-packages/jieba/dict.txt'>"
            ]
          },
          "metadata": {
            "tags": []
          },
          "execution_count": 9
        }
      ]
    },
    {
      "cell_type": "code",
      "metadata": {
        "id": "VwZoQiO_zCfb",
        "colab_type": "code",
        "outputId": "6007c32e-3e15-4650-f855-d1c14c20aad3",
        "colab": {
          "base_uri": "https://localhost:8080/",
          "height": 187
        }
      },
      "source": [
        "! head /usr/local/lib/python3.6/dist-packages/jieba/dict.txt"
      ],
      "execution_count": 0,
      "outputs": [
        {
          "output_type": "stream",
          "text": [
            "AT&T 3 nz\n",
            "B超 3 n\n",
            "c# 3 nz\n",
            "C# 3 nz\n",
            "c++ 3 nz\n",
            "C++ 3 nz\n",
            "T恤 4 n\n",
            "A座 3 n\n",
            "A股 3 n\n",
            "A型 3 n\n"
          ],
          "name": "stdout"
        }
      ]
    },
    {
      "cell_type": "code",
      "metadata": {
        "id": "XECQ0ErFzahx",
        "colab_type": "code",
        "outputId": "7a2182fe-f250-46cb-d0b7-75458e57387d",
        "colab": {
          "base_uri": "https://localhost:8080/",
          "height": 85
        }
      },
      "source": [
        "! wc = l /usr/local/lib/python3.6/dist-packages/jieba/dict.txt"
      ],
      "execution_count": 0,
      "outputs": [
        {
          "output_type": "stream",
          "text": [
            "wc: '=': No such file or directory\n",
            "wc: l: No such file or directory\n",
            " 349046 1047138 5071852 /usr/local/lib/python3.6/dist-packages/jieba/dict.txt\n",
            " 349046 1047138 5071852 total\n"
          ],
          "name": "stdout"
        }
      ]
    },
    {
      "cell_type": "markdown",
      "metadata": {
        "id": "NxVeLGc1-NYb",
        "colab_type": "text"
      },
      "source": [
        "##Python 斷詞實戰\n"
      ]
    },
    {
      "cell_type": "code",
      "metadata": {
        "id": "248otfGADOzZ",
        "colab_type": "code",
        "outputId": "d3687dac-83ae-4ca2-ac1d-39b41957874d",
        "colab": {
          "base_uri": "https://localhost:8080/",
          "height": 102
        }
      },
      "source": [
        "import jieba\n",
        "\n",
        "seg_list = jieba.cut(\"大巨蛋案對市府同仁下封口令？　柯P否認\", cut_all=True)\n",
        "print(\"Full Mode:\", \"/ \".join(seg_list))"
      ],
      "execution_count": 0,
      "outputs": [
        {
          "output_type": "stream",
          "text": [
            "Building prefix dict from the default dictionary ...\n",
            "Dumping model to file cache /tmp/jieba.cache\n",
            "Loading model cost 0.823 seconds.\n",
            "Prefix dict has been built successfully.\n"
          ],
          "name": "stderr"
        },
        {
          "output_type": "stream",
          "text": [
            "Full Mode: 大/ 巨蛋/ 案/ 對/ 市府/ 同仁/ 下/ 封口/ 封口令/ 口令/ ？/ 　/ / 柯/ P/ 否/ 認\n"
          ],
          "name": "stdout"
        }
      ]
    },
    {
      "cell_type": "code",
      "metadata": {
        "id": "NwzeAc_S-J0K",
        "colab_type": "code",
        "outputId": "015b00ec-14ef-47d7-a548-291c9fab5426",
        "colab": {
          "base_uri": "https://localhost:8080/",
          "height": 54
        }
      },
      "source": [
        "import jieba\n",
        "seg_list = jieba.cut(\"大巨蛋案對市府同仁下封口令? 柯P否認\", cut_all = True)\n",
        "print(\"Default Mode:\", \"/ \".join(seg_list))"
      ],
      "execution_count": 0,
      "outputs": [
        {
          "output_type": "stream",
          "text": [
            "Default Mode: 大/ 巨蛋/ 案/ 對/ 市府/ 同仁/ 下/ 封口/ 封口令/ 口令/ ?/  / / 柯/ P/ 否/ 認\n"
          ],
          "name": "stdout"
        }
      ]
    },
    {
      "cell_type": "code",
      "metadata": {
        "id": "22FTd18_F2aU",
        "colab_type": "code",
        "outputId": "5f215c82-9241-4550-acdc-6598040e0ce2",
        "colab": {
          "base_uri": "https://localhost:8080/",
          "height": 34
        }
      },
      "source": [
        "jieba.get_dict_file()"
      ],
      "execution_count": 0,
      "outputs": [
        {
          "output_type": "execute_result",
          "data": {
            "text/plain": [
              "<_io.BufferedReader name='/usr/local/lib/python3.6/dist-packages/jieba/dict.txt'>"
            ]
          },
          "metadata": {
            "tags": []
          },
          "execution_count": 33
        }
      ]
    },
    {
      "cell_type": "code",
      "metadata": {
        "id": "crDaP-6__I3a",
        "colab_type": "code",
        "colab": {}
      },
      "source": [
        "jieba.load_userdict('userdict')"
      ],
      "execution_count": 0,
      "outputs": []
    },
    {
      "cell_type": "code",
      "metadata": {
        "id": "wSjttYxUAWxc",
        "colab_type": "code",
        "outputId": "1bc7b6a1-86a0-4de4-8dd4-f6cdfd7b2350",
        "colab": {
          "base_uri": "https://localhost:8080/",
          "height": 34
        }
      },
      "source": [
        "\n",
        "seg_list = jieba.cut(\"大巨蛋案對市府同仁下封口令？　柯P否認\")\n",
        "print(\"Default Mode:\", \"/ \".join(seg_list))"
      ],
      "execution_count": 0,
      "outputs": [
        {
          "output_type": "stream",
          "text": [
            "Default Mode: 大巨蛋/ 案對/ 市府/ 同仁/ 下/ 封口令/ ？/ 　/ 柯P/ 否認\n"
          ],
          "name": "stdout"
        }
      ]
    },
    {
      "cell_type": "code",
      "metadata": {
        "id": "Ji-n5XVnBLIU",
        "colab_type": "code",
        "outputId": "bedb59d2-f9cd-477b-bde4-34400f96ea80",
        "colab": {
          "base_uri": "https://localhost:8080/",
          "height": 102
        }
      },
      "source": [
        "! git clone https://github.com/ldkrsi/jieba-zh_TW"
      ],
      "execution_count": 0,
      "outputs": [
        {
          "output_type": "stream",
          "text": [
            "Cloning into 'jieba-zh_TW'...\n",
            "remote: Enumerating objects: 2320, done.\u001b[K\n",
            "remote: Total 2320 (delta 0), reused 0 (delta 0), pack-reused 2320\u001b[K\n",
            "Receiving objects: 100% (2320/2320), 44.97 MiB | 9.25 MiB/s, done.\n",
            "Resolving deltas: 100% (1311/1311), done.\n"
          ],
          "name": "stdout"
        }
      ]
    },
    {
      "cell_type": "code",
      "metadata": {
        "id": "ymUm69aPBmT4",
        "colab_type": "code",
        "outputId": "e24e06d8-d560-4f24-b8f8-02f65159eb00",
        "colab": {
          "base_uri": "https://localhost:8080/",
          "height": 34
        }
      },
      "source": [
        "jieba.get_dict_file()"
      ],
      "execution_count": 0,
      "outputs": [
        {
          "output_type": "execute_result",
          "data": {
            "text/plain": [
              "<_io.BufferedReader name='/usr/local/lib/python3.6/dist-packages/jieba/dict.txt'>"
            ]
          },
          "metadata": {
            "tags": []
          },
          "execution_count": 22
        }
      ]
    },
    {
      "cell_type": "code",
      "metadata": {
        "id": "5OhhdmG0Bxau",
        "colab_type": "code",
        "outputId": "e2ed1ea6-9944-4b3f-eb5d-73301c18abc5",
        "colab": {
          "base_uri": "https://localhost:8080/",
          "height": 51
        }
      },
      "source": [
        "! ls /usr/local/lib/python3.6/dist-packages/jieba/"
      ],
      "execution_count": 0,
      "outputs": [
        {
          "output_type": "stream",
          "text": [
            "analyse     dict.txt  __init__.py  __main__.py\t__pycache__\n",
            "_compat.py  finalseg  lac_small    posseg\n"
          ],
          "name": "stdout"
        }
      ]
    },
    {
      "cell_type": "code",
      "metadata": {
        "id": "Po7rpgJIB27x",
        "colab_type": "code",
        "colab": {}
      },
      "source": [
        "! cp -r /content/jieba-zh_TW/jieba /usr/local/lib/python3.6/dist-packages/jieba/"
      ],
      "execution_count": 0,
      "outputs": []
    },
    {
      "cell_type": "code",
      "metadata": {
        "id": "rrksv7q_FaMn",
        "colab_type": "code",
        "outputId": "85931f28-86b8-432f-9c43-2e5adaa77fa8",
        "colab": {
          "base_uri": "https://localhost:8080/",
          "height": 34
        }
      },
      "source": [
        "import jieba\n",
        "seg_list = jieba.cut(\"大巨蛋案對市府同仁下封口令？　柯P否認\")\n",
        "print(\"Default Mode:\", \"/ \".join(seg_list))"
      ],
      "execution_count": 0,
      "outputs": [
        {
          "output_type": "stream",
          "text": [
            "Default Mode: 大巨蛋/ 案對/ 市府/ 同仁/ 下/ 封口令/ ？/ 　/ 柯P/ 否認\n"
          ],
          "name": "stdout"
        }
      ]
    },
    {
      "cell_type": "markdown",
      "metadata": {
        "id": "R5sPsFVTHMHZ",
        "colab_type": "text"
      },
      "source": [
        "##Python Jieba 抓出詞性"
      ]
    },
    {
      "cell_type": "code",
      "metadata": {
        "id": "aW7q_iBrHRoF",
        "colab_type": "code",
        "outputId": "d84cae77-9282-4ab2-c9e9-b626e767ca2d",
        "colab": {
          "base_uri": "https://localhost:8080/",
          "height": 204
        }
      },
      "source": [
        "import jieba.posseg as pseg\n",
        "import jieba\n",
        "jieba.load_userdict('userdict')\n",
        "words = pseg.cut(\"大巨蛋案對市府同仁下封口令? 柯P否認\") \n",
        "for w in words:\n",
        "  print (w.word, w.flag)"
      ],
      "execution_count": 0,
      "outputs": [
        {
          "output_type": "stream",
          "text": [
            "大巨蛋 n\n",
            "案 ng\n",
            "對 p\n",
            "市府 n\n",
            "同仁 nr\n",
            "下 f\n",
            "封口令 n\n",
            "? x\n",
            "  x\n",
            "柯P n\n",
            "否認 v\n"
          ],
          "name": "stdout"
        }
      ]
    },
    {
      "cell_type": "code",
      "metadata": {
        "id": "cAZXn41XJ6dM",
        "colab_type": "code",
        "outputId": "b3f7d312-27e4-487b-9933-8f4705366966",
        "colab": {
          "base_uri": "https://localhost:8080/",
          "height": 187
        }
      },
      "source": [
        "s = \"大巨蛋案對市府同仁下封口令？　柯P否認\"\n",
        "words = jieba.tokenize(s)\n",
        "\n",
        "for tw in words:\n",
        "    print(tw[0], tw[1], tw[2])"
      ],
      "execution_count": 0,
      "outputs": [
        {
          "output_type": "stream",
          "text": [
            "大巨蛋 0 3\n",
            "案對 3 5\n",
            "市府 5 7\n",
            "同仁 7 9\n",
            "下 9 10\n",
            "封口令 10 13\n",
            "？ 13 14\n",
            "　 14 15\n",
            "柯P 15 17\n",
            "否認 17 19\n"
          ],
          "name": "stdout"
        }
      ]
    },
    {
      "cell_type": "markdown",
      "metadata": {
        "id": "5ggBpqeoKT70",
        "colab_type": "text"
      },
      "source": [
        "## 字詞字典\n",
        "- https://www.moedict.tw/\n",
        "-https://zh.wikipedia.org/wiki/\n"
      ]
    },
    {
      "cell_type": "code",
      "metadata": {
        "id": "1B2ms_mTKXUN",
        "colab_type": "code",
        "colab": {}
      },
      "source": [
        "import requests\n",
        "from bs4 import BeautifulSoup\n",
        "res = requests.get('https://ec.ltn.com.tw/article/breakingnews/3179004')\n",
        "soup = BeautifulSoup(res.text, 'lxml')"
      ],
      "execution_count": 0,
      "outputs": []
    },
    {
      "cell_type": "code",
      "metadata": {
        "id": "ZEhqHHibMWVr",
        "colab_type": "code",
        "outputId": "cbc99fe9-7135-4a50-9012-d42fe5a084f3",
        "colab": {
          "base_uri": "https://localhost:8080/",
          "height": 34
        }
      },
      "source": [
        "soup.select_one('meta[name=keywords]').get('content')"
      ],
      "execution_count": 0,
      "outputs": [
        {
          "output_type": "execute_result",
          "data": {
            "text/plain": [
              "'口罩,口罩國家隊,口罩解禁'"
            ]
          },
          "metadata": {
            "tags": []
          },
          "execution_count": 12
        }
      ]
    }
  ]
}